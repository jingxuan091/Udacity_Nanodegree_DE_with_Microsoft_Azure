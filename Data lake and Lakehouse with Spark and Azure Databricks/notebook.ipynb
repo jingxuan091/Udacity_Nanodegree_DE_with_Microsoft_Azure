{
 "cells": [
  {
   "cell_type": "markdown",
   "metadata": {
    "application/vnd.databricks.v1+cell": {
     "cellMetadata": {
      "byteLimit": 2048000,
      "rowLimit": 10000
     },
     "inputWidgets": {},
     "nuid": "0de8c0a3-05c1-4f08-8e23-35d50dde55ea",
     "showTitle": false,
     "title": ""
    }
   },
   "source": [
    "###Bronze tables"
   ]
  },
  {
   "cell_type": "code",
   "execution_count": 0,
   "metadata": {
    "application/vnd.databricks.v1+cell": {
     "cellMetadata": {
      "byteLimit": 2048000,
      "rowLimit": 10000
     },
     "inputWidgets": {},
     "nuid": "41ad59c5-75dd-4bd1-9f62-ae38cc7d06d1",
     "showTitle": false,
     "title": ""
    }
   },
   "outputs": [],
   "source": [
    "bronze_payments = spark.read.format(\"csv\").option(\"inferSchema\",\"true\").option(\"sep\",\",\").load(\"/FileStore/tables/payments.csv\")\n",
    "bronze_riders = spark.read.format(\"csv\").option(\"inferSchema\",\"true\").option(\"sep\",\",\").load(\"/FileStore/tables/riders.csv\")\n",
    "bronze_stations = spark.read.format(\"csv\").option(\"inferSchema\",\"true\").option(\"sep\",\",\").load(\"/FileStore/tables/stations.csv\")\n",
    "bronze_trips = spark.read.format(\"csv\").option(\"inferSchema\",\"true\").option(\"sep\",\",\").load(\"/FileStore/tables/trips.csv\")"
   ]
  },
  {
   "cell_type": "code",
   "execution_count": 0,
   "metadata": {
    "application/vnd.databricks.v1+cell": {
     "cellMetadata": {
      "byteLimit": 2048000,
      "rowLimit": 10000
     },
     "inputWidgets": {},
     "nuid": "49df97e8-56c4-499c-afec-1d66bab6cec6",
     "showTitle": false,
     "title": ""
    }
   },
   "outputs": [],
   "source": [
    "bronze_payments.write.format(\"delta\").mode(\"overwrite\").save(\"/delta/bronze_payments\")\n",
    "bronze_riders.write.format(\"delta\").mode(\"overwrite\").save(\"/delta/bronze_riders\")\n",
    "bronze_stations.write.format(\"delta\").mode(\"overwrite\").save(\"/delta/bronze_stations\")\n",
    "bronze_trips.write.format(\"delta\").mode(\"overwrite\").save(\"/delta/bronze_trips\")"
   ]
  },
  {
   "cell_type": "markdown",
   "metadata": {
    "application/vnd.databricks.v1+cell": {
     "cellMetadata": {
      "byteLimit": 2048000,
      "rowLimit": 10000
     },
     "inputWidgets": {},
     "nuid": "f45490f9-0dd1-42ba-add5-ed1687cc215c",
     "showTitle": false,
     "title": ""
    }
   },
   "source": [
    "###Silver tables"
   ]
  },
  {
   "cell_type": "code",
   "execution_count": 0,
   "metadata": {
    "application/vnd.databricks.v1+cell": {
     "cellMetadata": {
      "byteLimit": 2048000,
      "rowLimit": 10000
     },
     "inputWidgets": {},
     "nuid": "6134cbf0-7afe-4bf5-aa2e-665d433877bd",
     "showTitle": false,
     "title": ""
    }
   },
   "outputs": [],
   "source": [
    "spark.sql(\"DROP TABLE IF EXISTS silver_payments\")\n",
    "spark.sql(\"DROP TABLE IF EXISTS silver_riders\")\n",
    "spark.sql(\"DROP TABLE IF EXISTS silver_stations\")\n",
    "spark.sql(\"DROP TABLE IF EXISTS silver_trips\")\n",
    "\n",
    "silver_payments = bronze_payments.withColumnRenamed(\"_c0\", \"payment_id\") \\\n",
    "    .withColumnRenamed(\"_c1\", \"date\") \\\n",
    "    .withColumnRenamed(\"_c2\", \"amount\") \\\n",
    "    .withColumnRenamed(\"_c3\", \"rider_id\")\n",
    "\n",
    "silver_riders = bronze_riders.withColumnRenamed(\"_c0\", \"rider_id\") \\\n",
    "    .withColumnRenamed(\"_c1\", \"first\") \\\n",
    "    .withColumnRenamed(\"_c2\", \"last\") \\\n",
    "    .withColumnRenamed(\"_c3\", \"address\") \\\n",
    "    .withColumnRenamed(\"_c4\", \"birthday\") \\\n",
    "    .withColumnRenamed(\"_c5\", \"account_start_date\") \\\n",
    "    .withColumnRenamed(\"_c6\", \"account_end_date\") \\\n",
    "    .withColumnRenamed(\"_c7\", \"is_member\")\n",
    "\n",
    "silver_stations = bronze_stations.withColumnRenamed(\"_c0\", \"station_id\") \\\n",
    "    .withColumnRenamed(\"_c1\", \"name\") \\\n",
    "    .withColumnRenamed(\"_c2\", \"latitude\") \\\n",
    "    .withColumnRenamed(\"_c3\", \"longitude\")\n",
    "    \n",
    "silver_trips = bronze_trips.withColumnRenamed(\"_c0\", \"trip_id\") \\\n",
    "    .withColumnRenamed(\"_c1\", \"rideable_type\") \\\n",
    "    .withColumnRenamed(\"_c2\", \"start_at\") \\\n",
    "    .withColumnRenamed(\"_c3\", \"ended_at\") \\\n",
    "    .withColumnRenamed(\"_c4\", \"start_station_id\") \\\n",
    "    .withColumnRenamed(\"_c5\", \"end_station_id\") \\\n",
    "    .withColumnRenamed(\"_c6\", \"rider_id\")"
   ]
  },
  {
   "cell_type": "code",
   "execution_count": 0,
   "metadata": {
    "application/vnd.databricks.v1+cell": {
     "cellMetadata": {
      "byteLimit": 2048000,
      "rowLimit": 10000
     },
     "inputWidgets": {},
     "nuid": "6118e54f-3892-4e69-91d5-065247eaebcc",
     "showTitle": false,
     "title": ""
    }
   },
   "outputs": [],
   "source": [
    "silver_payments.write.format(\"delta\").mode(\"overwrite\").saveAsTable(\"silver_payments\")\n",
    "silver_riders.write.format(\"delta\").mode(\"overwrite\").saveAsTable(\"silver_riders\")\n",
    "silver_stations.write.format(\"delta\").mode(\"overwrite\").saveAsTable(\"silver_stations\")\n",
    "silver_trips.write.format(\"delta\").mode(\"overwrite\").saveAsTable(\"silver_trips\")"
   ]
  },
  {
   "cell_type": "markdown",
   "metadata": {
    "application/vnd.databricks.v1+cell": {
     "cellMetadata": {
      "byteLimit": 2048000,
      "rowLimit": 10000
     },
     "inputWidgets": {},
     "nuid": "989cba0f-1804-4174-9db0-9b636e8d1797",
     "showTitle": false,
     "title": ""
    }
   },
   "source": [
    "###Gold tables"
   ]
  },
  {
   "cell_type": "code",
   "execution_count": 0,
   "metadata": {
    "application/vnd.databricks.v1+cell": {
     "cellMetadata": {
      "byteLimit": 2048000,
      "rowLimit": 10000
     },
     "inputWidgets": {},
     "nuid": "1493814a-c247-4419-924a-81204fb12f0b",
     "showTitle": false,
     "title": ""
    }
   },
   "outputs": [],
   "source": [
    "dim_rider = spark.sql(\"\"\"\n",
    "    SELECT rider_id AS rider_key,\n",
    "           first,\n",
    "           last,\n",
    "           address,\n",
    "           account_start_date,\n",
    "           account_end_date,\n",
    "           is_member\n",
    "    FROM silver_riders\n",
    "\"\"\")\n",
    "\n",
    "dim_rider.write.format(\"delta\").mode(\"overwrite\").saveAsTable(\"dim_rider\")\n",
    "\n"
   ]
  },
  {
   "cell_type": "code",
   "execution_count": 0,
   "metadata": {
    "application/vnd.databricks.v1+cell": {
     "cellMetadata": {
      "byteLimit": 2048000,
      "rowLimit": 10000
     },
     "inputWidgets": {},
     "nuid": "4f4ab49a-2d0e-4eb2-8af7-e37b596906f4",
     "showTitle": false,
     "title": ""
    }
   },
   "outputs": [],
   "source": [
    "from pyspark.sql.functions import col, year, month, dayofmonth, weekofyear, expr, when, dayofweek\n",
    "from pyspark.sql.types import IntegerType\n",
    "\n",
    "dim_date = (\n",
    "    silver_payments.select(\n",
    "        col(\"date\").cast(\"date\").alias(\"date\"),\n",
    "        year(col(\"date\")).alias(\"year\"),\n",
    "        expr(\"(CAST(month(date) AS INT) - 1) DIV 3 + 1\").alias(\"quarter\"),\n",
    "        month(col(\"date\")).alias(\"month\"),\n",
    "        dayofmonth(col(\"date\")).alias(\"day\"),\n",
    "        weekofyear(col(\"date\")).alias(\"week\"),\n",
    "        when(dayofweek(col(\"date\")).isin([1, 7]), 1).otherwise(0).alias(\"is_weekend\")\n",
    "    )\n",
    "    .distinct()\n",
    ")\n",
    "\n",
    "dim_date.write.format(\"delta\").mode(\"overwrite\").saveAsTable(\"dim_date\")\n"
   ]
  },
  {
   "cell_type": "code",
   "execution_count": 0,
   "metadata": {
    "application/vnd.databricks.v1+cell": {
     "cellMetadata": {
      "byteLimit": 2048000,
      "rowLimit": 10000
     },
     "inputWidgets": {},
     "nuid": "071bd090-9a52-40b6-81ae-56ead563361a",
     "showTitle": false,
     "title": ""
    }
   },
   "outputs": [],
   "source": [
    "\n",
    "dim_station = spark.sql(\"\"\"\n",
    "    SELECT\n",
    "        station_id AS station_key,\n",
    "        name AS station_name,\n",
    "        latitude,\n",
    "        longitude\n",
    "    FROM silver_stations\n",
    "\"\"\")\n",
    "\n",
    "dim_station.write \\\n",
    "    .format(\"delta\") \\\n",
    "    .mode(\"overwrite\") \\\n",
    "    .saveAsTable(\"dim_station\")"
   ]
  },
  {
   "cell_type": "code",
   "execution_count": 0,
   "metadata": {
    "application/vnd.databricks.v1+cell": {
     "cellMetadata": {
      "byteLimit": 2048000,
      "rowLimit": 10000
     },
     "inputWidgets": {},
     "nuid": "966aa0bb-82e6-4a89-959f-469a10cf7e64",
     "showTitle": false,
     "title": ""
    }
   },
   "outputs": [],
   "source": [
    "fact_payment = spark.sql(\"\"\"\n",
    "    SELECT\n",
    "       payment_id AS payment_key,\n",
    "       CAST(date_format(date, 'yyyyMMdd') AS INT) AS date_key,\n",
    "       rider_id AS rider_key,\n",
    "       amount\n",
    "    FROM silver_payments\n",
    "\"\"\")\n",
    "\n",
    "fact_payment.write \\\n",
    "    .format(\"delta\") \\\n",
    "    .mode(\"overwrite\") \\\n",
    "    .saveAsTable(\"fact_payment\")\n",
    "\n"
   ]
  },
  {
   "cell_type": "code",
   "execution_count": 0,
   "metadata": {
    "application/vnd.databricks.v1+cell": {
     "cellMetadata": {
      "byteLimit": 2048000,
      "rowLimit": 10000
     },
     "inputWidgets": {},
     "nuid": "5c1bf6a5-5429-4c9f-b7a4-09074e7bd041",
     "showTitle": false,
     "title": ""
    }
   },
   "outputs": [],
   "source": [
    "fact_trip = spark.sql(\"\"\"\n",
    "    SELECT t.trip_id AS trip_key,\n",
    "           t.rider_id AS rider_key,\n",
    "           CAST(FROM_UNIXTIME(UNIX_TIMESTAMP(p.date, 'yyyy-MM-dd'), 'yyyyMMdd') AS INT) AS date_key,\n",
    "           start_station.station_id AS start_station_key,\n",
    "           end_station.station_id AS end_station_key,\n",
    "           DATEDIFF(t.ended_at, t.start_at) AS trip_duration,\n",
    "           (DATEDIFF(year, r.birthday, t.start_at) - \n",
    "            (CASE WHEN MONTH(r.birthday) > MONTH(t.start_at)\n",
    "                  OR (MONTH(r.birthday) = MONTH(t.start_at) AND DAY(r.birthday) > DAY(t.start_at))\n",
    "                  THEN 1\n",
    "                  ELSE 0\n",
    "             END)) AS rider_age\n",
    "    FROM silver_trips t\n",
    "    JOIN silver_riders r ON r.rider_id = t.rider_id\n",
    "    JOIN silver_payments p ON t.rider_id = p.rider_id\n",
    "    LEFT JOIN silver_stations start_station ON t.start_station_id = start_station.station_id\n",
    "    LEFT JOIN silver_stations end_station ON t.end_station_id = end_station.station_id\n",
    "\"\"\")\n",
    "\n",
    "\n",
    "fact_trip.write \\\n",
    "    .format(\"delta\") \\\n",
    "    .mode(\"overwrite\") \\\n",
    "    .saveAsTable(\"fact_trip\")\n"
   ]
  },
  {
   "cell_type": "code",
   "execution_count": 0,
   "metadata": {
    "application/vnd.databricks.v1+cell": {
     "cellMetadata": {},
     "inputWidgets": {},
     "nuid": "1d91b162-9acf-4bad-9523-db8b1a1873e4",
     "showTitle": false,
     "title": ""
    }
   },
   "outputs": [],
   "source": []
  }
 ],
 "metadata": {
  "application/vnd.databricks.v1+notebook": {
   "dashboards": [],
   "language": "python",
   "notebookMetadata": {
    "pythonIndentUnit": 4
   },
   "notebookName": "ELT",
   "widgets": {}
  }
 },
 "nbformat": 4,
 "nbformat_minor": 0
}
