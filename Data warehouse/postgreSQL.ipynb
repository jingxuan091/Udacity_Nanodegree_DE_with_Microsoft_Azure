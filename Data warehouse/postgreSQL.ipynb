{
 "cells": [
  {
   "cell_type": "code",
   "execution_count": 1,
   "metadata": {},
   "outputs": [],
   "source": [
    "import psycopg2\n",
    "from psycopg2.extensions import ISOLATION_LEVEL_AUTOCOMMIT"
   ]
  },
  {
   "cell_type": "code",
   "execution_count": 2,
   "metadata": {},
   "outputs": [],
   "source": [
    "########################################\n",
    "# Update connection string information #\n",
    "########################################\n",
    "host = \"host\"\n",
    "user = \"user\"\n",
    "password = \"password\"\n"
   ]
  },
  {
   "cell_type": "code",
   "execution_count": 1,
   "metadata": {},
   "outputs": [],
   "source": [
    "# Create a new DB\n",
    "sslmode = \"require\"\n",
    "dbname = \"postgres\"\n",
    "conn_string = \"host={0} user={1} dbname={2} password={3} sslmode={4}\".format(host, user, dbname, password, sslmode)\n",
    "conn = psycopg2.connect(conn_string)\n",
    "conn.set_isolation_level(ISOLATION_LEVEL_AUTOCOMMIT);\n",
    "print(\"Connection established\")\n",
    "\n",
    "cursor = conn.cursor()\n",
    "cursor.execute('DROP DATABASE IF EXISTS udacityproject')\n",
    "cursor.execute(\"CREATE DATABASE udacityproject\")\n",
    "# Clean up initial connection\n",
    "conn.commit()\n",
    "cursor.close()\n",
    "conn.close()\n",
    "\n",
    "# Reconnect to the new DB\n",
    "dbname = \"udacityproject\"\n",
    "conn_string = \"host={0} user={1} dbname={2} password={3} sslmode={4}\".format(host, user, dbname, password, sslmode)\n",
    "conn = psycopg2.connect(conn_string)\n",
    "print(\"Connection established\")\n",
    "cursor = conn.cursor()\n",
    "\n",
    "# Helper functions\n",
    "def drop_recreate(c, tablename, create):\n",
    "    c.execute(\"DROP TABLE IF EXISTS {0};\".format(tablename))\n",
    "    c.execute(create)\n",
    "    print(\"Finished creating table {0}\".format(tablename))\n",
    "\n",
    "def populate_table(c, filename, tablename):\n",
    "    f = open(filename, 'r')\n",
    "    try:\n",
    "        cursor.copy_from(f, tablename, sep=\",\", null = \"\")\n",
    "        conn.commit()\n",
    "    except (Exception, psycopg2.DatabaseError) as error:\n",
    "        print(\"Error: %s\" % error)\n",
    "        conn.rollback()\n",
    "        cursor.close()\n",
    "    print(\"Finished populating {0}\".format(tablename))\n",
    "\n",
    "# Create Rider table\n",
    "table = \"rider\"\n",
    "filename = '../data/riders.csv'\n",
    "create = \"CREATE TABLE rider (rider_id INTEGER PRIMARY KEY, first VARCHAR(50), last VARCHAR(50), address VARCHAR(100), birthday DATE, account_start_date DATE, account_end_date DATE, is_member BOOLEAN);\"\n",
    "\n",
    "drop_recreate(cursor, table, create)\n",
    "populate_table(cursor, filename, table)\n",
    "\n",
    "# Create Payment table\n",
    "table = \"payment\"\n",
    "filename = '../data/payments.csv'\n",
    "create = \"CREATE TABLE payment (payment_id INTEGER PRIMARY KEY, date DATE, amount MONEY, rider_id INTEGER);\"\n",
    "\n",
    "drop_recreate(cursor, table, create)\n",
    "populate_table(cursor, filename, table)\n",
    "\n",
    "# Create Station table\n",
    "table = \"station\"\n",
    "filename = '../data/stations.csv'\n",
    "create = \"CREATE TABLE station (station_id VARCHAR(50) PRIMARY KEY, name VARCHAR(75), latitude FLOAT, longitude FLOAT);\"\n",
    "\n",
    "drop_recreate(cursor, table, create)\n",
    "populate_table(cursor, filename, table)\n",
    "\n",
    "# Create Trip table\n",
    "table = \"trip\"\n",
    "filename = '../data/trips.csv'\n",
    "create = \"CREATE TABLE trip (trip_id VARCHAR(50) PRIMARY KEY, rideable_type VARCHAR(75), start_at TIMESTAMP, ended_at TIMESTAMP, start_station_id VARCHAR(50), end_station_id VARCHAR(50), rider_id INTEGER);\"\n",
    "\n",
    "drop_recreate(cursor, table, create)\n",
    "populate_table(cursor, filename, table)\n",
    "\n",
    "# Clean up\n",
    "conn.commit()\n",
    "cursor.close()\n",
    "conn.close()\n",
    "\n",
    "print(\"All done!\")"
   ]
  },
  {
   "cell_type": "code",
   "execution_count": null,
   "metadata": {},
   "outputs": [],
   "source": [
    "# Clean up\n",
    "cursor.close()\n",
    "conn.close()\n"
   ]
  }
 ],
 "metadata": {
  "kernelspec": {
   "display_name": "Python 3",
   "language": "python",
   "name": "python3"
  },
  "language_info": {
   "codemirror_mode": {
    "name": "ipython",
    "version": 3
   },
   "file_extension": ".py",
   "mimetype": "text/x-python",
   "name": "python",
   "nbconvert_exporter": "python",
   "pygments_lexer": "ipython3",
   "version": "3.10.6"
  },
  "orig_nbformat": 4
 },
 "nbformat": 4,
 "nbformat_minor": 2
}
